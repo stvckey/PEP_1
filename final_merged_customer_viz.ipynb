{
 "cells": [
  {
   "cell_type": "code",
   "execution_count": 2,
   "metadata": {},
   "outputs": [],
   "source": [
    "# import the required libraries\n",
    "\n",
    "import seaborn as sns\n",
    "import pandas as pd\n",
    "import os"
   ]
  },
  {
   "cell_type": "code",
   "execution_count": 35,
   "metadata": {},
   "outputs": [
    {
     "name": "stdout",
     "output_type": "stream",
     "text": [
      "<class 'pandas.core.frame.DataFrame'>\n",
      "RangeIndex: 10000 entries, 0 to 9999\n",
      "Data columns (total 23 columns):\n",
      " #   Column                     Non-Null Count  Dtype  \n",
      "---  ------                     --------------  -----  \n",
      " 0   customer_id                10000 non-null  int64  \n",
      " 1   total_orders               10000 non-null  int64  \n",
      " 2   total_items                10000 non-null  int64  \n",
      " 3   total_spent                10000 non-null  float64\n",
      " 4   order_id                   10000 non-null  object \n",
      " 5   items                      10000 non-null  int64  \n",
      " 6   aperitifs                  10000 non-null  object \n",
      " 7   appetizers                 10000 non-null  object \n",
      " 8   entrees                    10000 non-null  object \n",
      " 9   desserts                   10000 non-null  object \n",
      " 10  total                      10000 non-null  float64\n",
      " 11  address                    9519 non-null   object \n",
      " 12  city                       9519 non-null   object \n",
      " 13  credit_card_expires        9542 non-null   object \n",
      " 14  credit_card_number         9542 non-null   float64\n",
      " 15  credit_card_provider       9542 non-null   object \n",
      " 16  credit_card_security_code  9542 non-null   float64\n",
      " 17  customer_demographics_id   10000 non-null  object \n",
      " 18  email                      8803 non-null   object \n",
      " 19  name                       10000 non-null  object \n",
      " 20  phone_number               8006 non-null   object \n",
      " 21  state                      9519 non-null   object \n",
      " 22  zip_code                   9519 non-null   float64\n",
      "dtypes: float64(5), int64(4), object(14)\n",
      "memory usage: 1.8+ MB\n"
     ]
    }
   ],
   "source": [
    "# Taking a look at the info\n",
    "df = pd.read_csv('final_merged_customer.csv')\n",
    "df.info()"
   ]
  },
  {
   "cell_type": "code",
   "execution_count": 119,
   "metadata": {},
   "outputs": [
    {
     "data": {
      "text/plain": [
       "state\n",
       "Massachusetts     230\n",
       "Maryland          228\n",
       "Louisiana         225\n",
       "South Carolina    223\n",
       "North Carolina    217\n",
       "Name: count, dtype: int64"
      ]
     },
     "execution_count": 119,
     "metadata": {},
     "output_type": "execute_result"
    }
   ],
   "source": [
    "# Finding the cities that made the most orders\n",
    "most_orders = df[\"state\"].value_counts().sort_values(ascending=False).head()\n",
    "states_most_orders = most_orders.index.tolist()\n",
    "most_orders"
   ]
  },
  {
   "cell_type": "code",
   "execution_count": 82,
   "metadata": {},
   "outputs": [
    {
     "name": "stdout",
     "output_type": "stream",
     "text": [
      "Total revenue: $1312156.60\n",
      "Orders completed: 1123\n",
      "Avg $ per order: $1168.44\n"
     ]
    }
   ],
   "source": [
    "# Find out how much money was made in the states with the most orders\n",
    "states_most_orders_df = df[df['state'].isin(states_most_orders)]\n",
    "states_most_orders_revenue = \"{:.2f}\".format(states_most_orders_df['total_spent'].sum())\n",
    "\n",
    "print(f\"\"\"Total revenue: ${states_most_orders_revenue}\n",
    "Orders completed: {len(states_most_orders_df)}\n",
    "Avg $ per order: ${'{:.2f}'.format(states_most_orders_df['total_spent'].sum()/len(states_most_orders_df))}\"\"\")"
   ]
  },
  {
   "cell_type": "code",
   "execution_count": 114,
   "metadata": {},
   "outputs": [
    {
     "name": "stdout",
     "output_type": "stream",
     "text": [
      "['Maryland', 'Massachusetts', 'Illinois', 'Louisiana', 'Georgia']\n"
     ]
    },
    {
     "data": {
      "text/html": [
       "<div>\n",
       "<style scoped>\n",
       "    .dataframe tbody tr th:only-of-type {\n",
       "        vertical-align: middle;\n",
       "    }\n",
       "\n",
       "    .dataframe tbody tr th {\n",
       "        vertical-align: top;\n",
       "    }\n",
       "\n",
       "    .dataframe thead th {\n",
       "        text-align: right;\n",
       "    }\n",
       "</style>\n",
       "<table border=\"1\" class=\"dataframe\">\n",
       "  <thead>\n",
       "    <tr style=\"text-align: right;\">\n",
       "      <th></th>\n",
       "      <th>state</th>\n",
       "      <th>total_spent</th>\n",
       "    </tr>\n",
       "  </thead>\n",
       "  <tbody>\n",
       "    <tr>\n",
       "      <th>19</th>\n",
       "      <td>Maryland</td>\n",
       "      <td>282706.97</td>\n",
       "    </tr>\n",
       "    <tr>\n",
       "      <th>20</th>\n",
       "      <td>Massachusetts</td>\n",
       "      <td>273518.45</td>\n",
       "    </tr>\n",
       "    <tr>\n",
       "      <th>12</th>\n",
       "      <td>Illinois</td>\n",
       "      <td>263169.71</td>\n",
       "    </tr>\n",
       "    <tr>\n",
       "      <th>17</th>\n",
       "      <td>Louisiana</td>\n",
       "      <td>261845.45</td>\n",
       "    </tr>\n",
       "    <tr>\n",
       "      <th>9</th>\n",
       "      <td>Georgia</td>\n",
       "      <td>260986.75</td>\n",
       "    </tr>\n",
       "  </tbody>\n",
       "</table>\n",
       "</div>"
      ],
      "text/plain": [
       "            state  total_spent\n",
       "19       Maryland    282706.97\n",
       "20  Massachusetts    273518.45\n",
       "12       Illinois    263169.71\n",
       "17      Louisiana    261845.45\n",
       "9         Georgia    260986.75"
      ]
     },
     "execution_count": 114,
     "metadata": {},
     "output_type": "execute_result"
    }
   ],
   "source": [
    "# Finding the cities that spent the most money\n",
    "most_revenue = df.groupby('state')['total_spent'].sum()\n",
    "most_revenue = most_revenue.reset_index().sort_values(by='total_spent')\n",
    "most_revenue = most_revenue.sort_values(by='total_spent', ascending=False).head()\n",
    "states_most_revenue = most_revenue.set_index('state').index.tolist()\n",
    "print(states_most_revenue)\n",
    "most_revenue"
   ]
  },
  {
   "cell_type": "code",
   "execution_count": 130,
   "metadata": {},
   "outputs": [
    {
     "name": "stdout",
     "output_type": "stream",
     "text": [
      "Total Revenue: $1342227.33\n",
      "Orders completed: 1095\n",
      "Avg $ per order: 1225.78\n"
     ]
    }
   ],
   "source": [
    "# Find out how much money was made in the states with the most revenue\n",
    "states_most_revenue_df = df[df['state'].isin(states_most_revenue)]\n",
    "\n",
    "print(f\"\"\"Total Revenue: ${'{:.2f}'.format(most_revenue['total_spent'].sum())}\n",
    "Orders completed: {len(states_most_revenue_df)}\n",
    "Avg $ per order: {'{:.2f}'.format(most_revenue['total_spent'].sum()/len(states_most_revenue_df))}\"\"\")"
   ]
  },
  {
   "cell_type": "markdown",
   "metadata": {},
   "source": [
    "From this we can conclude that we should establish locations in the states generating the highest revenue."
   ]
  },
  {
   "cell_type": "code",
   "execution_count": 142,
   "metadata": {},
   "outputs": [
    {
     "data": {
      "text/plain": [
       "aperitifs\n",
       "Port                121\n",
       "Champagne           113\n",
       "Aperol Spritz       112\n",
       "Bellini             111\n",
       "Vermouth            106\n",
       "Campari and Soda     99\n",
       "Americano            95\n",
       "Kir                  94\n",
       "Kir Royale           94\n",
       "Sherry               90\n",
       "Negroni              88\n",
       "Name: count, dtype: int64"
      ]
     },
     "execution_count": 142,
     "metadata": {},
     "output_type": "execute_result"
    }
   ],
   "source": [
    "#Finding the most orered aperitifs\n",
    "states_most_orders_df['aperitifs'].value_counts()"
   ]
  },
  {
   "cell_type": "code",
   "execution_count": 143,
   "metadata": {},
   "outputs": [
    {
     "data": {
      "text/plain": [
       "entrees\n",
       "Steak         125\n",
       "Lobster       117\n",
       "Pasta         111\n",
       "Pork          110\n",
       "Burger        107\n",
       "Lamb          104\n",
       "Vegetarian    101\n",
       "Chicken        94\n",
       "Duck           91\n",
       "Pizza          83\n",
       "Fish           80\n",
       "Name: count, dtype: int64"
      ]
     },
     "execution_count": 143,
     "metadata": {},
     "output_type": "execute_result"
    }
   ],
   "source": [
    "#Finding the most orered entrees\n",
    "states_most_orders_df['entrees'].value_counts()"
   ]
  },
  {
   "cell_type": "code",
   "execution_count": 144,
   "metadata": {},
   "outputs": [
    {
     "data": {
      "text/plain": [
       "desserts\n",
       "Pudding           117\n",
       "Creme Brulee      107\n",
       "Sorbet            106\n",
       "Cheesecake        104\n",
       "Tiramisu          101\n",
       "Ice Cream         100\n",
       "Cobbler           100\n",
       "Chocolate Cake     98\n",
       "Chocolate          97\n",
       "Pie                97\n",
       "Cookies            96\n",
       "Name: count, dtype: int64"
      ]
     },
     "execution_count": 144,
     "metadata": {},
     "output_type": "execute_result"
    }
   ],
   "source": [
    "#Finding the most orered desserts\n",
    "states_most_orders_df[\"desserts\"].value_counts()"
   ]
  },
  {
   "cell_type": "code",
   "execution_count": 145,
   "metadata": {},
   "outputs": [
    {
     "data": {
      "text/plain": [
       "appetizers\n",
       "Caviar           112\n",
       "Soup             111\n",
       "Salad            108\n",
       "Foie Gras        106\n",
       "Oysters          103\n",
       "Smoked Salmon    103\n",
       "Escargot         100\n",
       "Crudites          99\n",
       "Pate              97\n",
       "Cheese Plate      94\n",
       "Charcuterie       90\n",
       "Name: count, dtype: int64"
      ]
     },
     "execution_count": 145,
     "metadata": {},
     "output_type": "execute_result"
    }
   ],
   "source": [
    "#Finding the most orered appetizers\n",
    "states_most_orders_df[\"appetizers\"].value_counts()"
   ]
  }
 ],
 "metadata": {
  "kernelspec": {
   "display_name": "Python 3",
   "language": "python",
   "name": "python3"
  },
  "language_info": {
   "codemirror_mode": {
    "name": "ipython",
    "version": 3
   },
   "file_extension": ".py",
   "mimetype": "text/x-python",
   "name": "python",
   "nbconvert_exporter": "python",
   "pygments_lexer": "ipython3",
   "version": "3.8.10"
  }
 },
 "nbformat": 4,
 "nbformat_minor": 2
}
