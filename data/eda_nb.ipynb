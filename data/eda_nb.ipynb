{
 "cells": [
  {
   "cell_type": "code",
   "execution_count": 1,
   "metadata": {},
   "outputs": [],
   "source": [
    "import pandas as pd\n",
    "import yaml"
   ]
  },
  {
   "cell_type": "markdown",
   "metadata": {},
   "source": [
    "# 1. Converting .yaml and .csv files to Pandas dataframes"
   ]
  },
  {
   "cell_type": "code",
   "execution_count": null,
   "metadata": {},
   "outputs": [],
   "source": [
    "\n",
    "with open('customer_demographics.yaml', 'r') as stream:\n",
    "    data = yaml.safe_load(stream)\n",
    "\n",
    "\n",
    "demo_df = pd.DataFrame(data.values())"
   ]
  },
  {
   "cell_type": "code",
   "execution_count": 2,
   "metadata": {},
   "outputs": [
    {
     "name": "stdout",
     "output_type": "stream",
     "text": [
      "<class 'pandas.core.frame.DataFrame'>\n",
      "RangeIndex: 10000 entries, 0 to 9999\n",
      "Data columns (total 12 columns):\n",
      " #   Column                     Non-Null Count  Dtype \n",
      "---  ------                     --------------  ----- \n",
      " 0   address                    9509 non-null   object\n",
      " 1   city                       9509 non-null   object\n",
      " 2   credit_card_expires        9547 non-null   object\n",
      " 3   credit_card_number         9547 non-null   object\n",
      " 4   credit_card_provider       9547 non-null   object\n",
      " 5   credit_card_security_code  9547 non-null   object\n",
      " 6   customer_id                10000 non-null  object\n",
      " 7   email                      8987 non-null   object\n",
      " 8   name                       10000 non-null  object\n",
      " 9   phone_number               7978 non-null   object\n",
      " 10  state                      9509 non-null   object\n",
      " 11  zip_code                   9509 non-null   object\n",
      "dtypes: object(12)\n",
      "memory usage: 937.6+ KB\n"
     ]
    }
   ],
   "source": [
    "# using open() and yaml.safe_load to store each entry of the file\n",
    "with open('customer_demographics.yaml', 'r') as stream:\n",
    "    data = yaml.safe_load(stream)\n",
    "\n",
    "# each entry has contains the same order and name for the keys\n",
    "# creating a pandas df with the key:value pair of each entry as the column:value\n",
    "demo_df = pd.DataFrame(data.values())\n",
    "\n",
    "\n",
    "demo_df.info()"
   ]
  },
  {
   "cell_type": "code",
   "execution_count": 3,
   "metadata": {},
   "outputs": [
    {
     "name": "stdout",
     "output_type": "stream",
     "text": [
      "<class 'pandas.core.frame.DataFrame'>\n",
      "RangeIndex: 10000 entries, 0 to 9999\n",
      "Data columns (total 4 columns):\n",
      " #   Column        Non-Null Count  Dtype  \n",
      "---  ------        --------------  -----  \n",
      " 0   customer_id   10000 non-null  int64  \n",
      " 1   total_orders  10000 non-null  int64  \n",
      " 2   total_items   10000 non-null  int64  \n",
      " 3   total_spent   10000 non-null  float64\n",
      "dtypes: float64(1), int64(3)\n",
      "memory usage: 312.6 KB\n"
     ]
    }
   ],
   "source": [
    "# using pandas.read_csv() to load the .csv as a dataframe\n",
    "customer_df = pd.read_csv(\"./customer_statistics.csv\", encoding = \"utf-8\")\n",
    "customer_df.info()"
   ]
  },
  {
   "cell_type": "code",
   "execution_count": 4,
   "metadata": {},
   "outputs": [
    {
     "name": "stdout",
     "output_type": "stream",
     "text": [
      "<class 'pandas.core.frame.DataFrame'>\n",
      "RangeIndex: 10000 entries, 0 to 9999\n",
      "Data columns (total 8 columns):\n",
      " #   Column       Non-Null Count  Dtype  \n",
      "---  ------       --------------  -----  \n",
      " 0   order_id     10000 non-null  object \n",
      " 1   customer_id  10000 non-null  int64  \n",
      " 2   items        10000 non-null  int64  \n",
      " 3   aperitifs    10000 non-null  object \n",
      " 4   appetizers   10000 non-null  object \n",
      " 5   entrees      10000 non-null  object \n",
      " 6   desserts     10000 non-null  object \n",
      " 7   total        10000 non-null  float64\n",
      "dtypes: float64(1), int64(2), object(5)\n",
      "memory usage: 625.1+ KB\n"
     ]
    }
   ],
   "source": [
    "# using pandas.read_csv() to load the .csv as a dataframe\n",
    "orders_df = pd.read_csv(\"./orders.csv\", encoding=\"utf-8\")\n",
    "orders_df.info()"
   ]
  },
  {
   "cell_type": "markdown",
   "metadata": {},
   "source": [
    "# 2. Finding the Primary and foreign keys of each table"
   ]
  },
  {
   "cell_type": "code",
   "execution_count": 6,
   "metadata": {},
   "outputs": [
    {
     "name": "stdout",
     "output_type": "stream",
     "text": [
      "10000\n"
     ]
    },
    {
     "data": {
      "text/html": [
       "<div>\n",
       "<style scoped>\n",
       "    .dataframe tbody tr th:only-of-type {\n",
       "        vertical-align: middle;\n",
       "    }\n",
       "\n",
       "    .dataframe tbody tr th {\n",
       "        vertical-align: top;\n",
       "    }\n",
       "\n",
       "    .dataframe thead th {\n",
       "        text-align: right;\n",
       "    }\n",
       "</style>\n",
       "<table border=\"1\" class=\"dataframe\">\n",
       "  <thead>\n",
       "    <tr style=\"text-align: right;\">\n",
       "      <th></th>\n",
       "      <th>address</th>\n",
       "      <th>city</th>\n",
       "      <th>credit_card_expires</th>\n",
       "      <th>credit_card_number</th>\n",
       "      <th>credit_card_provider</th>\n",
       "      <th>credit_card_security_code</th>\n",
       "      <th>customer_id</th>\n",
       "      <th>email</th>\n",
       "      <th>name</th>\n",
       "      <th>phone_number</th>\n",
       "      <th>state</th>\n",
       "      <th>zip_code</th>\n",
       "    </tr>\n",
       "  </thead>\n",
       "  <tbody>\n",
       "    <tr>\n",
       "      <th>0</th>\n",
       "      <td>621 Chavez Ramp Suite 938</td>\n",
       "      <td>West Deniseport</td>\n",
       "      <td>06/31</td>\n",
       "      <td>2269172571677458</td>\n",
       "      <td>Diners Club / Carte Blanche</td>\n",
       "      <td>338</td>\n",
       "      <td>a8c966a0-b670-4044-826c-0e6bfe708259</td>\n",
       "      <td>brett00@example.com</td>\n",
       "      <td>Ronald Rodgers</td>\n",
       "      <td>None</td>\n",
       "      <td>New York</td>\n",
       "      <td>59237</td>\n",
       "    </tr>\n",
       "    <tr>\n",
       "      <th>1</th>\n",
       "      <td>592 Mccoy River</td>\n",
       "      <td>Port Dannymouth</td>\n",
       "      <td>11/24</td>\n",
       "      <td>676320507830</td>\n",
       "      <td>JCB 16 digit</td>\n",
       "      <td>246</td>\n",
       "      <td>56b850e0-9320-4aa0-8cd4-d1199903c90e</td>\n",
       "      <td>smithjennifer@example.net</td>\n",
       "      <td>Mary Mitchell</td>\n",
       "      <td>None</td>\n",
       "      <td>Montana</td>\n",
       "      <td>17401</td>\n",
       "    </tr>\n",
       "    <tr>\n",
       "      <th>2</th>\n",
       "      <td>8923 Aaron Turnpike</td>\n",
       "      <td>Port Rhondaton</td>\n",
       "      <td>11/31</td>\n",
       "      <td>4607779976715144588</td>\n",
       "      <td>JCB 16 digit</td>\n",
       "      <td>869</td>\n",
       "      <td>5ec9f613-adb1-4e69-8a1a-9530cb777886</td>\n",
       "      <td>twhite@example.net</td>\n",
       "      <td>Nathan Wells</td>\n",
       "      <td>+1-893-568-2182x593</td>\n",
       "      <td>North Dakota</td>\n",
       "      <td>07166</td>\n",
       "    </tr>\n",
       "    <tr>\n",
       "      <th>3</th>\n",
       "      <td>496 Margaret Shoals</td>\n",
       "      <td>Smithborough</td>\n",
       "      <td>04/33</td>\n",
       "      <td>4234465830748237</td>\n",
       "      <td>Mastercard</td>\n",
       "      <td>497</td>\n",
       "      <td>ca182662-b281-433a-a82b-8e061f7bf2cd</td>\n",
       "      <td>nguyenjennifer@example.com</td>\n",
       "      <td>Kelly Ramos</td>\n",
       "      <td>820-824-2003</td>\n",
       "      <td>Iowa</td>\n",
       "      <td>42755</td>\n",
       "    </tr>\n",
       "    <tr>\n",
       "      <th>4</th>\n",
       "      <td>0807 Logan Fords Suite 355</td>\n",
       "      <td>Contrerasside</td>\n",
       "      <td>10/25</td>\n",
       "      <td>4985681645741</td>\n",
       "      <td>Discover</td>\n",
       "      <td>927</td>\n",
       "      <td>1e7c3a60-4788-4711-809f-b6f8bfbdb18a</td>\n",
       "      <td>michaelabarr@example.net</td>\n",
       "      <td>Rebekah Fitzgerald</td>\n",
       "      <td>+1-269-384-1623x34240</td>\n",
       "      <td>Connecticut</td>\n",
       "      <td>64282</td>\n",
       "    </tr>\n",
       "  </tbody>\n",
       "</table>\n",
       "</div>"
      ],
      "text/plain": [
       "                      address             city credit_card_expires  \\\n",
       "0   621 Chavez Ramp Suite 938  West Deniseport               06/31   \n",
       "1             592 Mccoy River  Port Dannymouth               11/24   \n",
       "2         8923 Aaron Turnpike   Port Rhondaton               11/31   \n",
       "3         496 Margaret Shoals     Smithborough               04/33   \n",
       "4  0807 Logan Fords Suite 355    Contrerasside               10/25   \n",
       "\n",
       "    credit_card_number         credit_card_provider credit_card_security_code  \\\n",
       "0     2269172571677458  Diners Club / Carte Blanche                       338   \n",
       "1         676320507830                 JCB 16 digit                       246   \n",
       "2  4607779976715144588                 JCB 16 digit                       869   \n",
       "3     4234465830748237                   Mastercard                       497   \n",
       "4        4985681645741                     Discover                       927   \n",
       "\n",
       "                            customer_id                       email  \\\n",
       "0  a8c966a0-b670-4044-826c-0e6bfe708259         brett00@example.com   \n",
       "1  56b850e0-9320-4aa0-8cd4-d1199903c90e   smithjennifer@example.net   \n",
       "2  5ec9f613-adb1-4e69-8a1a-9530cb777886          twhite@example.net   \n",
       "3  ca182662-b281-433a-a82b-8e061f7bf2cd  nguyenjennifer@example.com   \n",
       "4  1e7c3a60-4788-4711-809f-b6f8bfbdb18a    michaelabarr@example.net   \n",
       "\n",
       "                 name           phone_number         state zip_code  \n",
       "0      Ronald Rodgers                   None      New York    59237  \n",
       "1       Mary Mitchell                   None       Montana    17401  \n",
       "2        Nathan Wells    +1-893-568-2182x593  North Dakota    07166  \n",
       "3         Kelly Ramos           820-824-2003          Iowa    42755  \n",
       "4  Rebekah Fitzgerald  +1-269-384-1623x34240   Connecticut    64282  "
      ]
     },
     "execution_count": 6,
     "metadata": {},
     "output_type": "execute_result"
    }
   ],
   "source": [
    "# checking to see if customer_id is the primary key (unique for each entry)\n",
    "print(demo_df['customer_id'].nunique())\n",
    "# viewing the table/df\n",
    "demo_df.head()"
   ]
  },
  {
   "cell_type": "code",
   "execution_count": 8,
   "metadata": {},
   "outputs": [
    {
     "name": "stdout",
     "output_type": "stream",
     "text": [
      "6283\n"
     ]
    },
    {
     "data": {
      "text/html": [
       "<div>\n",
       "<style scoped>\n",
       "    .dataframe tbody tr th:only-of-type {\n",
       "        vertical-align: middle;\n",
       "    }\n",
       "\n",
       "    .dataframe tbody tr th {\n",
       "        vertical-align: top;\n",
       "    }\n",
       "\n",
       "    .dataframe thead th {\n",
       "        text-align: right;\n",
       "    }\n",
       "</style>\n",
       "<table border=\"1\" class=\"dataframe\">\n",
       "  <thead>\n",
       "    <tr style=\"text-align: right;\">\n",
       "      <th></th>\n",
       "      <th>customer_id</th>\n",
       "      <th>total_orders</th>\n",
       "      <th>total_items</th>\n",
       "      <th>total_spent</th>\n",
       "    </tr>\n",
       "  </thead>\n",
       "  <tbody>\n",
       "    <tr>\n",
       "      <th>0</th>\n",
       "      <td>8037</td>\n",
       "      <td>5</td>\n",
       "      <td>20</td>\n",
       "      <td>300.39</td>\n",
       "    </tr>\n",
       "    <tr>\n",
       "      <th>1</th>\n",
       "      <td>4290</td>\n",
       "      <td>2</td>\n",
       "      <td>3</td>\n",
       "      <td>332.66</td>\n",
       "    </tr>\n",
       "    <tr>\n",
       "      <th>2</th>\n",
       "      <td>5367</td>\n",
       "      <td>3</td>\n",
       "      <td>7</td>\n",
       "      <td>643.27</td>\n",
       "    </tr>\n",
       "    <tr>\n",
       "      <th>3</th>\n",
       "      <td>4755</td>\n",
       "      <td>10</td>\n",
       "      <td>12</td>\n",
       "      <td>649.12</td>\n",
       "    </tr>\n",
       "    <tr>\n",
       "      <th>4</th>\n",
       "      <td>2651</td>\n",
       "      <td>10</td>\n",
       "      <td>9</td>\n",
       "      <td>794.28</td>\n",
       "    </tr>\n",
       "  </tbody>\n",
       "</table>\n",
       "</div>"
      ],
      "text/plain": [
       "   customer_id  total_orders  total_items  total_spent\n",
       "0         8037             5           20       300.39\n",
       "1         4290             2            3       332.66\n",
       "2         5367             3            7       643.27\n",
       "3         4755            10           12       649.12\n",
       "4         2651            10            9       794.28"
      ]
     },
     "execution_count": 8,
     "metadata": {},
     "output_type": "execute_result"
    }
   ],
   "source": [
    "# checking to see if customer_id is the primary key (unique for each entry)\n",
    "print(customer_df['customer_id'].nunique())\n",
    "# viewing the table\n",
    "customer_df.head()"
   ]
  },
  {
   "cell_type": "code",
   "execution_count": 10,
   "metadata": {},
   "outputs": [
    {
     "name": "stdout",
     "output_type": "stream",
     "text": [
      "10000\n"
     ]
    },
    {
     "data": {
      "text/html": [
       "<div>\n",
       "<style scoped>\n",
       "    .dataframe tbody tr th:only-of-type {\n",
       "        vertical-align: middle;\n",
       "    }\n",
       "\n",
       "    .dataframe tbody tr th {\n",
       "        vertical-align: top;\n",
       "    }\n",
       "\n",
       "    .dataframe thead th {\n",
       "        text-align: right;\n",
       "    }\n",
       "</style>\n",
       "<table border=\"1\" class=\"dataframe\">\n",
       "  <thead>\n",
       "    <tr style=\"text-align: right;\">\n",
       "      <th></th>\n",
       "      <th>order_id</th>\n",
       "      <th>customer_id</th>\n",
       "      <th>items</th>\n",
       "      <th>aperitifs</th>\n",
       "      <th>appetizers</th>\n",
       "      <th>entrees</th>\n",
       "      <th>desserts</th>\n",
       "      <th>total</th>\n",
       "    </tr>\n",
       "  </thead>\n",
       "  <tbody>\n",
       "    <tr>\n",
       "      <th>0</th>\n",
       "      <td>f1d6b4c4-0f9f-4ba6-8d5d-f7e4ef7cd9a0</td>\n",
       "      <td>2652</td>\n",
       "      <td>7</td>\n",
       "      <td>Aperol Spritz</td>\n",
       "      <td>Pate</td>\n",
       "      <td>Pork</td>\n",
       "      <td>Tiramisu</td>\n",
       "      <td>751.87</td>\n",
       "    </tr>\n",
       "    <tr>\n",
       "      <th>1</th>\n",
       "      <td>7b8a732e-85a0-4fa2-b282-a2d232ee182e</td>\n",
       "      <td>1756</td>\n",
       "      <td>3</td>\n",
       "      <td>Sherry</td>\n",
       "      <td>Pate</td>\n",
       "      <td>Pasta</td>\n",
       "      <td>Cheesecake</td>\n",
       "      <td>156.43</td>\n",
       "    </tr>\n",
       "    <tr>\n",
       "      <th>2</th>\n",
       "      <td>1eab436d-2acb-4bc8-b849-fbce859ffd8a</td>\n",
       "      <td>2989</td>\n",
       "      <td>5</td>\n",
       "      <td>Bellini</td>\n",
       "      <td>Pate</td>\n",
       "      <td>Lobster</td>\n",
       "      <td>Chocolate Cake</td>\n",
       "      <td>364.13</td>\n",
       "    </tr>\n",
       "    <tr>\n",
       "      <th>3</th>\n",
       "      <td>d6313392-8901-42f6-bf8a-4805fe816a46</td>\n",
       "      <td>9903</td>\n",
       "      <td>3</td>\n",
       "      <td>Sherry</td>\n",
       "      <td>Salad</td>\n",
       "      <td>Pizza</td>\n",
       "      <td>Cheesecake</td>\n",
       "      <td>805.62</td>\n",
       "    </tr>\n",
       "    <tr>\n",
       "      <th>4</th>\n",
       "      <td>f73f8c45-28c2-473f-a3ba-e65ed5890ac6</td>\n",
       "      <td>8627</td>\n",
       "      <td>2</td>\n",
       "      <td>Port</td>\n",
       "      <td>Pate</td>\n",
       "      <td>Lobster</td>\n",
       "      <td>Pie</td>\n",
       "      <td>638.43</td>\n",
       "    </tr>\n",
       "  </tbody>\n",
       "</table>\n",
       "</div>"
      ],
      "text/plain": [
       "                               order_id  customer_id  items      aperitifs  \\\n",
       "0  f1d6b4c4-0f9f-4ba6-8d5d-f7e4ef7cd9a0         2652      7  Aperol Spritz   \n",
       "1  7b8a732e-85a0-4fa2-b282-a2d232ee182e         1756      3         Sherry   \n",
       "2  1eab436d-2acb-4bc8-b849-fbce859ffd8a         2989      5        Bellini   \n",
       "3  d6313392-8901-42f6-bf8a-4805fe816a46         9903      3         Sherry   \n",
       "4  f73f8c45-28c2-473f-a3ba-e65ed5890ac6         8627      2           Port   \n",
       "\n",
       "  appetizers  entrees        desserts   total  \n",
       "0       Pate     Pork        Tiramisu  751.87  \n",
       "1       Pate    Pasta      Cheesecake  156.43  \n",
       "2       Pate  Lobster  Chocolate Cake  364.13  \n",
       "3      Salad    Pizza      Cheesecake  805.62  \n",
       "4       Pate  Lobster             Pie  638.43  "
      ]
     },
     "execution_count": 10,
     "metadata": {},
     "output_type": "execute_result"
    }
   ],
   "source": [
    "# checking to see if order_id is the primary key (unique for each entry)\n",
    "print(orders_df['order_id'].nunique())\n",
    "# viewing the table\n",
    "orders_df.head()"
   ]
  },
  {
   "cell_type": "code",
   "execution_count": 16,
   "metadata": {},
   "outputs": [
    {
     "name": "stdout",
     "output_type": "stream",
     "text": [
      "<class 'pandas.core.frame.DataFrame'>\n",
      "RangeIndex: 10006 entries, 0 to 10005\n",
      "Data columns (total 11 columns):\n",
      " #   Column        Non-Null Count  Dtype  \n",
      "---  ------        --------------  -----  \n",
      " 0   customer_id   10006 non-null  int64  \n",
      " 1   total_orders  10006 non-null  int64  \n",
      " 2   total_items   10006 non-null  int64  \n",
      " 3   total_spent   10006 non-null  float64\n",
      " 4   order_id      10006 non-null  object \n",
      " 5   items         10006 non-null  int64  \n",
      " 6   aperitifs     10006 non-null  object \n",
      " 7   appetizers    10006 non-null  object \n",
      " 8   entrees       10006 non-null  object \n",
      " 9   desserts      10006 non-null  object \n",
      " 10  total         10006 non-null  float64\n",
      "dtypes: float64(2), int64(4), object(5)\n",
      "memory usage: 860.0+ KB\n"
     ]
    }
   ],
   "source": [
    "# Merging the orders.csv df with the customer_statistics.csv df\n",
    "# on customer_id\n",
    "customer_order_df = customer_df.merge(orders_df,on=\"customer_id\",how=\"inner\")\n",
    "customer_order_df.info()"
   ]
  },
  {
   "cell_type": "code",
   "execution_count": 17,
   "metadata": {},
   "outputs": [
    {
     "name": "stdout",
     "output_type": "stream",
     "text": [
      "<class 'pandas.core.frame.DataFrame'>\n",
      "RangeIndex: 6302 entries, 0 to 6301\n",
      "Data columns (total 11 columns):\n",
      " #   Column        Non-Null Count  Dtype  \n",
      "---  ------        --------------  -----  \n",
      " 0   order_id      6302 non-null   object \n",
      " 1   customer_id   6302 non-null   int64  \n",
      " 2   items         6302 non-null   int64  \n",
      " 3   aperitifs     6302 non-null   object \n",
      " 4   appetizers    6302 non-null   object \n",
      " 5   entrees       6302 non-null   object \n",
      " 6   desserts      6302 non-null   object \n",
      " 7   total         6302 non-null   float64\n",
      " 8   total_orders  6302 non-null   int64  \n",
      " 9   total_items   6302 non-null   int64  \n",
      " 10  total_spent   6302 non-null   float64\n",
      "dtypes: float64(2), int64(4), object(5)\n",
      "memory usage: 541.7+ KB\n"
     ]
    }
   ],
   "source": [
    "# The Duplicate entries of customer_id from customer_statistics is causing extra rows\n",
    "# Aggregating customer_stats.csv df so that the customer_id has no duplicates\n",
    "\n",
    "unique_customer = customer_df.groupby('customer_id').sum().reset_index()\n",
    "\n",
    "\n",
    "# merging the aggregated customer_stats df with the orders df\n",
    "unique_customer_order_df = orders_df.merge(unique_customers,on=\"customer_id\")\n",
    "unique_customer_order_df.info()"
   ]
  },
  {
   "cell_type": "code",
   "execution_count": 18,
   "metadata": {},
   "outputs": [
    {
     "name": "stdout",
     "output_type": "stream",
     "text": [
      "<class 'pandas.core.frame.DataFrame'>\n",
      "RangeIndex: 0 entries\n",
      "Data columns (total 22 columns):\n",
      " #   Column                     Non-Null Count  Dtype  \n",
      "---  ------                     --------------  -----  \n",
      " 0   order_id                   0 non-null      object \n",
      " 1   customer_id                0 non-null      int64  \n",
      " 2   items                      0 non-null      int64  \n",
      " 3   aperitifs                  0 non-null      object \n",
      " 4   appetizers                 0 non-null      object \n",
      " 5   entrees                    0 non-null      object \n",
      " 6   desserts                   0 non-null      object \n",
      " 7   total                      0 non-null      float64\n",
      " 8   total_orders               0 non-null      int64  \n",
      " 9   total_items                0 non-null      int64  \n",
      " 10  total_spent                0 non-null      float64\n",
      " 11  address                    0 non-null      object \n",
      " 12  city                       0 non-null      object \n",
      " 13  credit_card_expires        0 non-null      object \n",
      " 14  credit_card_number         0 non-null      object \n",
      " 15  credit_card_provider       0 non-null      object \n",
      " 16  credit_card_security_code  0 non-null      object \n",
      " 17  email                      0 non-null      object \n",
      " 18  name                       0 non-null      object \n",
      " 19  phone_number               0 non-null      object \n",
      " 20  state                      0 non-null      object \n",
      " 21  zip_code                   0 non-null      object \n",
      "dtypes: float64(2), int64(4), object(16)\n",
      "memory usage: 132.0+ bytes\n"
     ]
    }
   ],
   "source": [
    "# merging the demographics onto our demographics df with\n",
    "# our merged df with order_id\n",
    "demo_df.rename(columns={'customer_id':'order_id'},inplace=True)\n",
    "customer_order_demo = unique_customer_order_df.merge(demo_df,on='order_id')\n",
    "customer_order_demo.info()"
   ]
  },
  {
   "cell_type": "code",
   "execution_count": 19,
   "metadata": {},
   "outputs": [
    {
     "name": "stdout",
     "output_type": "stream",
     "text": [
      "<class 'pandas.core.frame.DataFrame'>\n",
      "RangeIndex: 6302 entries, 0 to 6301\n",
      "Data columns (total 23 columns):\n",
      " #   Column                     Non-Null Count  Dtype  \n",
      "---  ------                     --------------  -----  \n",
      " 0   order_id                   6302 non-null   object \n",
      " 1   customer_id                6302 non-null   int64  \n",
      " 2   items                      6302 non-null   int64  \n",
      " 3   aperitifs                  6302 non-null   object \n",
      " 4   appetizers                 6302 non-null   object \n",
      " 5   entrees                    6302 non-null   object \n",
      " 6   desserts                   6302 non-null   object \n",
      " 7   total                      6302 non-null   float64\n",
      " 8   total_orders               6302 non-null   int64  \n",
      " 9   total_items                6302 non-null   int64  \n",
      " 10  total_spent                6302 non-null   float64\n",
      " 11  address                    5998 non-null   object \n",
      " 12  city                       5998 non-null   object \n",
      " 13  credit_card_expires        6019 non-null   object \n",
      " 14  credit_card_number         6019 non-null   object \n",
      " 15  credit_card_provider       6019 non-null   object \n",
      " 16  credit_card_security_code  6019 non-null   object \n",
      " 17  customer_second_id         6302 non-null   object \n",
      " 18  email                      5634 non-null   object \n",
      " 19  name                       6302 non-null   object \n",
      " 20  phone_number               5035 non-null   object \n",
      " 21  state                      5998 non-null   object \n",
      " 22  zip_code                   5998 non-null   object \n",
      "dtypes: float64(2), int64(4), object(17)\n",
      "memory usage: 1.1+ MB\n"
     ]
    }
   ],
   "source": [
    "# there are now matching keys for our demographics and merged table\n",
    "# changing the demographics primary key to the index and considering\n",
    "# that the customer_id since the customer_id is an int from 0-9999\n",
    "demo_df.rename(columns={'order_id':'customer_second_id'},inplace=True)\n",
    "demo_df['customer_id'] =demo_df.index\n",
    "customer_order_demo_df2 = unique_customer_order_df.merge(demo_df,on='customer_id')\n",
    "customer_order_demo_df2.info()"
   ]
  }
 ],
 "metadata": {
  "kernelspec": {
   "display_name": "cuda-env",
   "language": "python",
   "name": "python3"
  },
  "language_info": {
   "codemirror_mode": {
    "name": "ipython",
    "version": 3
   },
   "file_extension": ".py",
   "mimetype": "text/x-python",
   "name": "python",
   "nbconvert_exporter": "python",
   "pygments_lexer": "ipython3",
   "version": "3.11.7"
  }
 },
 "nbformat": 4,
 "nbformat_minor": 2
}
